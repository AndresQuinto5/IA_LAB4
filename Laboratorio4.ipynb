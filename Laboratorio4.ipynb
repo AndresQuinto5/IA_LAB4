{
 "cells": [
  {
   "cell_type": "markdown",
   "metadata": {},
   "source": [
    "Universidad del valle de Guatemala  \n",
    "Dpto. Ciencias de la computacion  \n",
    "Inteligencia Artificial  \n",
    "Alberto Suriano  \n",
    "\n",
    "Laboratorio 4  \n",
    "Andres Quinto - 18288  \n",
    "Marlon Hernández - 15177\n",
    "\n",
    "- Link del repositorio: https://github.com/AndresQuinto5/IA_LAB4.git"
   ]
  },
  {
   "cell_type": "markdown",
   "metadata": {},
   "source": [
    "# Task 1 - Preguntas Teóricas"
   ]
  },
  {
   "cell_type": "markdown",
   "metadata": {},
   "source": [
    "1. Explique con sus propias palabras, qué son los grafos computaciones y cuál es su importancia para el\n",
    "cálculo de gradientes en aplicaciones como backpropagation\n",
    "2. Detalle cuales son los componentes y pasos que conforman una red neuronal. Con esto en mente, ¿cómo\n",
    "mejoraría el perceptrón que hizo en el laboratorio pasado?\n",
    "3. Investigue y explique cómo se selecciona el valor K usando el método de la silueta para el algoritmo de\n",
    "K-Means. Explique las fórmulas (ecuaciones) que lo componen así como las asumpciones, si hay.\n",
    "4. Investigue sobre Principal Component Analysis (PCA) y responda respecto a algoritmos como K-Means:\n",
    "a. ¿Cómo podría ayudarle a mejorar la calidad de sus clusters cuando se usa K-Means?"
   ]
  },
  {
   "cell_type": "markdown",
   "metadata": {},
   "source": [
    "# Task 2 - Ejercicios Prácticos"
   ]
  },
  {
   "cell_type": "markdown",
   "metadata": {},
   "source": [
    "Task 2.1 - K-Means y Segmentación de Clientes de Banco"
   ]
  },
  {
   "cell_type": "markdown",
   "metadata": {},
   "source": [
    "## Analisis exploratorio"
   ]
  },
  {
   "cell_type": "code",
   "execution_count": 1,
   "metadata": {},
   "outputs": [
    {
     "name": "stderr",
     "output_type": "stream",
     "text": [
      "C:\\Users\\aeqv2\\AppData\\Local\\Temp\\ipykernel_1272\\2965881037.py:2: DeprecationWarning: \n",
      "Pyarrow will become a required dependency of pandas in the next major release of pandas (pandas 3.0),\n",
      "(to allow more performant data types, such as the Arrow string type, and better interoperability with other libraries)\n",
      "but was not found to be installed on your system.\n",
      "If this would cause problems for you,\n",
      "please provide us feedback at https://github.com/pandas-dev/pandas/issues/54466\n",
      "        \n",
      "  import pandas as pd\n"
     ]
    },
    {
     "data": {
      "text/html": [
       "<div>\n",
       "<style scoped>\n",
       "    .dataframe tbody tr th:only-of-type {\n",
       "        vertical-align: middle;\n",
       "    }\n",
       "\n",
       "    .dataframe tbody tr th {\n",
       "        vertical-align: top;\n",
       "    }\n",
       "\n",
       "    .dataframe thead th {\n",
       "        text-align: right;\n",
       "    }\n",
       "</style>\n",
       "<table border=\"1\" class=\"dataframe\">\n",
       "  <thead>\n",
       "    <tr style=\"text-align: right;\">\n",
       "      <th></th>\n",
       "      <th>TransactionID</th>\n",
       "      <th>CustomerID</th>\n",
       "      <th>CustomerDOB</th>\n",
       "      <th>CustGender</th>\n",
       "      <th>CustLocation</th>\n",
       "      <th>CustAccountBalance</th>\n",
       "      <th>TransactionDate</th>\n",
       "      <th>TransactionTime</th>\n",
       "      <th>TransactionAmount (INR)</th>\n",
       "    </tr>\n",
       "  </thead>\n",
       "  <tbody>\n",
       "    <tr>\n",
       "      <th>0</th>\n",
       "      <td>T1</td>\n",
       "      <td>C5841053</td>\n",
       "      <td>10/1/94</td>\n",
       "      <td>F</td>\n",
       "      <td>JAMSHEDPUR</td>\n",
       "      <td>17819.05</td>\n",
       "      <td>2/8/16</td>\n",
       "      <td>143207</td>\n",
       "      <td>25.0</td>\n",
       "    </tr>\n",
       "    <tr>\n",
       "      <th>1</th>\n",
       "      <td>T2</td>\n",
       "      <td>C2142763</td>\n",
       "      <td>4/4/57</td>\n",
       "      <td>M</td>\n",
       "      <td>JHAJJAR</td>\n",
       "      <td>2270.69</td>\n",
       "      <td>2/8/16</td>\n",
       "      <td>141858</td>\n",
       "      <td>27999.0</td>\n",
       "    </tr>\n",
       "    <tr>\n",
       "      <th>2</th>\n",
       "      <td>T3</td>\n",
       "      <td>C4417068</td>\n",
       "      <td>26/11/96</td>\n",
       "      <td>F</td>\n",
       "      <td>MUMBAI</td>\n",
       "      <td>17874.44</td>\n",
       "      <td>2/8/16</td>\n",
       "      <td>142712</td>\n",
       "      <td>459.0</td>\n",
       "    </tr>\n",
       "    <tr>\n",
       "      <th>3</th>\n",
       "      <td>T4</td>\n",
       "      <td>C5342380</td>\n",
       "      <td>14/9/73</td>\n",
       "      <td>F</td>\n",
       "      <td>MUMBAI</td>\n",
       "      <td>866503.21</td>\n",
       "      <td>2/8/16</td>\n",
       "      <td>142714</td>\n",
       "      <td>2060.0</td>\n",
       "    </tr>\n",
       "    <tr>\n",
       "      <th>4</th>\n",
       "      <td>T5</td>\n",
       "      <td>C9031234</td>\n",
       "      <td>24/3/88</td>\n",
       "      <td>F</td>\n",
       "      <td>NAVI MUMBAI</td>\n",
       "      <td>6714.43</td>\n",
       "      <td>2/8/16</td>\n",
       "      <td>181156</td>\n",
       "      <td>1762.5</td>\n",
       "    </tr>\n",
       "    <tr>\n",
       "      <th>...</th>\n",
       "      <td>...</td>\n",
       "      <td>...</td>\n",
       "      <td>...</td>\n",
       "      <td>...</td>\n",
       "      <td>...</td>\n",
       "      <td>...</td>\n",
       "      <td>...</td>\n",
       "      <td>...</td>\n",
       "      <td>...</td>\n",
       "    </tr>\n",
       "    <tr>\n",
       "      <th>1048562</th>\n",
       "      <td>T1048563</td>\n",
       "      <td>C8020229</td>\n",
       "      <td>8/4/90</td>\n",
       "      <td>M</td>\n",
       "      <td>NEW DELHI</td>\n",
       "      <td>7635.19</td>\n",
       "      <td>18/9/16</td>\n",
       "      <td>184824</td>\n",
       "      <td>799.0</td>\n",
       "    </tr>\n",
       "    <tr>\n",
       "      <th>1048563</th>\n",
       "      <td>T1048564</td>\n",
       "      <td>C6459278</td>\n",
       "      <td>20/2/92</td>\n",
       "      <td>M</td>\n",
       "      <td>NASHIK</td>\n",
       "      <td>27311.42</td>\n",
       "      <td>18/9/16</td>\n",
       "      <td>183734</td>\n",
       "      <td>460.0</td>\n",
       "    </tr>\n",
       "    <tr>\n",
       "      <th>1048564</th>\n",
       "      <td>T1048565</td>\n",
       "      <td>C6412354</td>\n",
       "      <td>18/5/89</td>\n",
       "      <td>M</td>\n",
       "      <td>HYDERABAD</td>\n",
       "      <td>221757.06</td>\n",
       "      <td>18/9/16</td>\n",
       "      <td>183313</td>\n",
       "      <td>770.0</td>\n",
       "    </tr>\n",
       "    <tr>\n",
       "      <th>1048565</th>\n",
       "      <td>T1048566</td>\n",
       "      <td>C6420483</td>\n",
       "      <td>30/8/78</td>\n",
       "      <td>M</td>\n",
       "      <td>VISAKHAPATNAM</td>\n",
       "      <td>10117.87</td>\n",
       "      <td>18/9/16</td>\n",
       "      <td>184706</td>\n",
       "      <td>1000.0</td>\n",
       "    </tr>\n",
       "    <tr>\n",
       "      <th>1048566</th>\n",
       "      <td>T1048567</td>\n",
       "      <td>C8337524</td>\n",
       "      <td>5/3/84</td>\n",
       "      <td>M</td>\n",
       "      <td>PUNE</td>\n",
       "      <td>75734.42</td>\n",
       "      <td>18/9/16</td>\n",
       "      <td>181222</td>\n",
       "      <td>1166.0</td>\n",
       "    </tr>\n",
       "  </tbody>\n",
       "</table>\n",
       "<p>1048567 rows × 9 columns</p>\n",
       "</div>"
      ],
      "text/plain": [
       "        TransactionID CustomerID CustomerDOB CustGender   CustLocation  \\\n",
       "0                  T1   C5841053     10/1/94          F     JAMSHEDPUR   \n",
       "1                  T2   C2142763      4/4/57          M        JHAJJAR   \n",
       "2                  T3   C4417068    26/11/96          F         MUMBAI   \n",
       "3                  T4   C5342380     14/9/73          F         MUMBAI   \n",
       "4                  T5   C9031234     24/3/88          F    NAVI MUMBAI   \n",
       "...               ...        ...         ...        ...            ...   \n",
       "1048562      T1048563   C8020229      8/4/90          M      NEW DELHI   \n",
       "1048563      T1048564   C6459278     20/2/92          M         NASHIK   \n",
       "1048564      T1048565   C6412354     18/5/89          M      HYDERABAD   \n",
       "1048565      T1048566   C6420483     30/8/78          M  VISAKHAPATNAM   \n",
       "1048566      T1048567   C8337524      5/3/84          M           PUNE   \n",
       "\n",
       "         CustAccountBalance TransactionDate  TransactionTime  \\\n",
       "0                  17819.05          2/8/16           143207   \n",
       "1                   2270.69          2/8/16           141858   \n",
       "2                  17874.44          2/8/16           142712   \n",
       "3                 866503.21          2/8/16           142714   \n",
       "4                   6714.43          2/8/16           181156   \n",
       "...                     ...             ...              ...   \n",
       "1048562             7635.19         18/9/16           184824   \n",
       "1048563            27311.42         18/9/16           183734   \n",
       "1048564           221757.06         18/9/16           183313   \n",
       "1048565            10117.87         18/9/16           184706   \n",
       "1048566            75734.42         18/9/16           181222   \n",
       "\n",
       "         TransactionAmount (INR)  \n",
       "0                           25.0  \n",
       "1                        27999.0  \n",
       "2                          459.0  \n",
       "3                         2060.0  \n",
       "4                         1762.5  \n",
       "...                          ...  \n",
       "1048562                    799.0  \n",
       "1048563                    460.0  \n",
       "1048564                    770.0  \n",
       "1048565                   1000.0  \n",
       "1048566                   1166.0  \n",
       "\n",
       "[1048567 rows x 9 columns]"
      ]
     },
     "execution_count": 1,
     "metadata": {},
     "output_type": "execute_result"
    }
   ],
   "source": [
    "import numpy as np\n",
    "import pandas as pd\n",
    "import matplotlib.pyplot as plt\n",
    "import seaborn as sns\n",
    "import calendar\n",
    "\n",
    "df = pd.read_csv('bank_transactions.csv')\n",
    "df"
   ]
  },
  {
   "cell_type": "code",
   "execution_count": 2,
   "metadata": {},
   "outputs": [
    {
     "data": {
      "text/html": [
       "<div>\n",
       "<style scoped>\n",
       "    .dataframe tbody tr th:only-of-type {\n",
       "        vertical-align: middle;\n",
       "    }\n",
       "\n",
       "    .dataframe tbody tr th {\n",
       "        vertical-align: top;\n",
       "    }\n",
       "\n",
       "    .dataframe thead th {\n",
       "        text-align: right;\n",
       "    }\n",
       "</style>\n",
       "<table border=\"1\" class=\"dataframe\">\n",
       "  <thead>\n",
       "    <tr style=\"text-align: right;\">\n",
       "      <th></th>\n",
       "      <th>TransactionID</th>\n",
       "      <th>CustomerID</th>\n",
       "      <th>CustomerDOB</th>\n",
       "      <th>CustGender</th>\n",
       "      <th>CustLocation</th>\n",
       "      <th>CustAccountBalance</th>\n",
       "      <th>TransactionDate</th>\n",
       "      <th>TransactionTime</th>\n",
       "      <th>TransactionAmount (INR)</th>\n",
       "    </tr>\n",
       "  </thead>\n",
       "  <tbody>\n",
       "    <tr>\n",
       "      <th>0</th>\n",
       "      <td>T1</td>\n",
       "      <td>C5841053</td>\n",
       "      <td>10/1/94</td>\n",
       "      <td>F</td>\n",
       "      <td>JAMSHEDPUR</td>\n",
       "      <td>17819.05</td>\n",
       "      <td>2/8/16</td>\n",
       "      <td>143207</td>\n",
       "      <td>25.0</td>\n",
       "    </tr>\n",
       "    <tr>\n",
       "      <th>1</th>\n",
       "      <td>T2</td>\n",
       "      <td>C2142763</td>\n",
       "      <td>4/4/57</td>\n",
       "      <td>M</td>\n",
       "      <td>JHAJJAR</td>\n",
       "      <td>2270.69</td>\n",
       "      <td>2/8/16</td>\n",
       "      <td>141858</td>\n",
       "      <td>27999.0</td>\n",
       "    </tr>\n",
       "    <tr>\n",
       "      <th>2</th>\n",
       "      <td>T3</td>\n",
       "      <td>C4417068</td>\n",
       "      <td>26/11/96</td>\n",
       "      <td>F</td>\n",
       "      <td>MUMBAI</td>\n",
       "      <td>17874.44</td>\n",
       "      <td>2/8/16</td>\n",
       "      <td>142712</td>\n",
       "      <td>459.0</td>\n",
       "    </tr>\n",
       "    <tr>\n",
       "      <th>3</th>\n",
       "      <td>T4</td>\n",
       "      <td>C5342380</td>\n",
       "      <td>14/9/73</td>\n",
       "      <td>F</td>\n",
       "      <td>MUMBAI</td>\n",
       "      <td>866503.21</td>\n",
       "      <td>2/8/16</td>\n",
       "      <td>142714</td>\n",
       "      <td>2060.0</td>\n",
       "    </tr>\n",
       "    <tr>\n",
       "      <th>4</th>\n",
       "      <td>T5</td>\n",
       "      <td>C9031234</td>\n",
       "      <td>24/3/88</td>\n",
       "      <td>F</td>\n",
       "      <td>NAVI MUMBAI</td>\n",
       "      <td>6714.43</td>\n",
       "      <td>2/8/16</td>\n",
       "      <td>181156</td>\n",
       "      <td>1762.5</td>\n",
       "    </tr>\n",
       "    <tr>\n",
       "      <th>...</th>\n",
       "      <td>...</td>\n",
       "      <td>...</td>\n",
       "      <td>...</td>\n",
       "      <td>...</td>\n",
       "      <td>...</td>\n",
       "      <td>...</td>\n",
       "      <td>...</td>\n",
       "      <td>...</td>\n",
       "      <td>...</td>\n",
       "    </tr>\n",
       "    <tr>\n",
       "      <th>1048562</th>\n",
       "      <td>T1048563</td>\n",
       "      <td>C8020229</td>\n",
       "      <td>8/4/90</td>\n",
       "      <td>M</td>\n",
       "      <td>NEW DELHI</td>\n",
       "      <td>7635.19</td>\n",
       "      <td>18/9/16</td>\n",
       "      <td>184824</td>\n",
       "      <td>799.0</td>\n",
       "    </tr>\n",
       "    <tr>\n",
       "      <th>1048563</th>\n",
       "      <td>T1048564</td>\n",
       "      <td>C6459278</td>\n",
       "      <td>20/2/92</td>\n",
       "      <td>M</td>\n",
       "      <td>NASHIK</td>\n",
       "      <td>27311.42</td>\n",
       "      <td>18/9/16</td>\n",
       "      <td>183734</td>\n",
       "      <td>460.0</td>\n",
       "    </tr>\n",
       "    <tr>\n",
       "      <th>1048564</th>\n",
       "      <td>T1048565</td>\n",
       "      <td>C6412354</td>\n",
       "      <td>18/5/89</td>\n",
       "      <td>M</td>\n",
       "      <td>HYDERABAD</td>\n",
       "      <td>221757.06</td>\n",
       "      <td>18/9/16</td>\n",
       "      <td>183313</td>\n",
       "      <td>770.0</td>\n",
       "    </tr>\n",
       "    <tr>\n",
       "      <th>1048565</th>\n",
       "      <td>T1048566</td>\n",
       "      <td>C6420483</td>\n",
       "      <td>30/8/78</td>\n",
       "      <td>M</td>\n",
       "      <td>VISAKHAPATNAM</td>\n",
       "      <td>10117.87</td>\n",
       "      <td>18/9/16</td>\n",
       "      <td>184706</td>\n",
       "      <td>1000.0</td>\n",
       "    </tr>\n",
       "    <tr>\n",
       "      <th>1048566</th>\n",
       "      <td>T1048567</td>\n",
       "      <td>C8337524</td>\n",
       "      <td>5/3/84</td>\n",
       "      <td>M</td>\n",
       "      <td>PUNE</td>\n",
       "      <td>75734.42</td>\n",
       "      <td>18/9/16</td>\n",
       "      <td>181222</td>\n",
       "      <td>1166.0</td>\n",
       "    </tr>\n",
       "  </tbody>\n",
       "</table>\n",
       "<p>1041614 rows × 9 columns</p>\n",
       "</div>"
      ],
      "text/plain": [
       "        TransactionID CustomerID CustomerDOB CustGender   CustLocation  \\\n",
       "0                  T1   C5841053     10/1/94          F     JAMSHEDPUR   \n",
       "1                  T2   C2142763      4/4/57          M        JHAJJAR   \n",
       "2                  T3   C4417068    26/11/96          F         MUMBAI   \n",
       "3                  T4   C5342380     14/9/73          F         MUMBAI   \n",
       "4                  T5   C9031234     24/3/88          F    NAVI MUMBAI   \n",
       "...               ...        ...         ...        ...            ...   \n",
       "1048562      T1048563   C8020229      8/4/90          M      NEW DELHI   \n",
       "1048563      T1048564   C6459278     20/2/92          M         NASHIK   \n",
       "1048564      T1048565   C6412354     18/5/89          M      HYDERABAD   \n",
       "1048565      T1048566   C6420483     30/8/78          M  VISAKHAPATNAM   \n",
       "1048566      T1048567   C8337524      5/3/84          M           PUNE   \n",
       "\n",
       "         CustAccountBalance TransactionDate  TransactionTime  \\\n",
       "0                  17819.05          2/8/16           143207   \n",
       "1                   2270.69          2/8/16           141858   \n",
       "2                  17874.44          2/8/16           142712   \n",
       "3                 866503.21          2/8/16           142714   \n",
       "4                   6714.43          2/8/16           181156   \n",
       "...                     ...             ...              ...   \n",
       "1048562             7635.19         18/9/16           184824   \n",
       "1048563            27311.42         18/9/16           183734   \n",
       "1048564           221757.06         18/9/16           183313   \n",
       "1048565            10117.87         18/9/16           184706   \n",
       "1048566            75734.42         18/9/16           181222   \n",
       "\n",
       "         TransactionAmount (INR)  \n",
       "0                           25.0  \n",
       "1                        27999.0  \n",
       "2                          459.0  \n",
       "3                         2060.0  \n",
       "4                         1762.5  \n",
       "...                          ...  \n",
       "1048562                    799.0  \n",
       "1048563                    460.0  \n",
       "1048564                    770.0  \n",
       "1048565                   1000.0  \n",
       "1048566                   1166.0  \n",
       "\n",
       "[1041614 rows x 9 columns]"
      ]
     },
     "execution_count": 2,
     "metadata": {},
     "output_type": "execute_result"
    }
   ],
   "source": [
    "df.dropna(inplace=True)\n",
    "df"
   ]
  },
  {
   "cell_type": "code",
   "execution_count": 3,
   "metadata": {},
   "outputs": [
    {
     "data": {
      "text/plain": [
       "array(['F', 'M', 'T'], dtype=object)"
      ]
     },
     "execution_count": 3,
     "metadata": {},
     "output_type": "execute_result"
    }
   ],
   "source": [
    "df['CustGender'].unique()"
   ]
  },
  {
   "cell_type": "markdown",
   "metadata": {},
   "source": [
    "Nota: por alguna razon hay un valor T, en la columna de generos, aun siendo mas extraño de que solo haya una persona con este valor, por lo que se toma la decision de eliminar este row."
   ]
  },
  {
   "cell_type": "code",
   "execution_count": 4,
   "metadata": {},
   "outputs": [],
   "source": [
    "df.drop(df[df['CustGender']=='T'].index,inplace=True)"
   ]
  },
  {
   "cell_type": "code",
   "execution_count": 5,
   "metadata": {},
   "outputs": [
    {
     "name": "stdout",
     "output_type": "stream",
     "text": [
      "TransactionID               object\n",
      "CustomerID                  object\n",
      "CustomerDOB                 object\n",
      "CustGender                  object\n",
      "CustLocation                object\n",
      "CustAccountBalance         float64\n",
      "TransactionDate             object\n",
      "TransactionTime              int64\n",
      "TransactionAmount (INR)    float64\n",
      "dtype: object\n"
     ]
    }
   ],
   "source": [
    "print(df.dtypes)\n"
   ]
  },
  {
   "cell_type": "markdown",
   "metadata": {},
   "source": [
    "CustomerDOB y TransactionDate deberian estar en formato de fechas y no de object"
   ]
  },
  {
   "cell_type": "code",
   "execution_count": 6,
   "metadata": {},
   "outputs": [
    {
     "data": {
      "text/plain": [
       "CustGender\n",
       "M    760978\n",
       "F    280635\n",
       "Name: count, dtype: int64"
      ]
     },
     "execution_count": 6,
     "metadata": {},
     "output_type": "execute_result"
    }
   ],
   "source": [
    "#countCustGender\n",
    "\n",
    "df['CustGender'].value_counts()\n"
   ]
  },
  {
   "cell_type": "code",
   "execution_count": 7,
   "metadata": {},
   "outputs": [
    {
     "name": "stderr",
     "output_type": "stream",
     "text": [
      "C:\\Users\\aeqv2\\AppData\\Local\\Temp\\ipykernel_1272\\3763677705.py:2: UserWarning: Could not infer format, so each element will be parsed individually, falling back to `dateutil`. To ensure parsing is consistent and as-expected, please specify a format.\n",
      "  df['CustomerDOB'] = pd.to_datetime(df['CustomerDOB'])\n",
      "C:\\Users\\aeqv2\\AppData\\Local\\Temp\\ipykernel_1272\\3763677705.py:5: UserWarning: Could not infer format, so each element will be parsed individually, falling back to `dateutil`. To ensure parsing is consistent and as-expected, please specify a format.\n",
      "  df['TransactionDate'] = pd.to_datetime(df['TransactionDate'])\n"
     ]
    }
   ],
   "source": [
    "# Convert the 'CustomerDOB' column to datetime format\n",
    "df['CustomerDOB'] = pd.to_datetime(df['CustomerDOB'])\n",
    "\n",
    "# Convert the 'TransactionDate' column to datetime format\n",
    "df['TransactionDate'] = pd.to_datetime(df['TransactionDate'])\n"
   ]
  },
  {
   "cell_type": "markdown",
   "metadata": {},
   "source": [
    "Con la información que tenemos podemos determinar la edad de las personas debido a las fechas de la transaccion y de nacimiento."
   ]
  },
  {
   "cell_type": "code",
   "execution_count": 8,
   "metadata": {},
   "outputs": [
    {
     "data": {
      "image/png": "[encoded data removed]",
      "text/plain": [
       "<Figure size 640x480 with 1 Axes>"
      ]
     },
     "metadata": {},
     "output_type": "display_data"
    }
   ],
   "source": [
    "# calculate customer age based on the data time\n",
    "df['CustomerAge'] = (df['TransactionDate'].dt.year - df['CustomerDOB'].dt.year)\n",
    "df['CustomerAge'].value_counts()\n",
    "\n",
    "# Apply absolute value to all values in 'CustomerAge' column\n",
    "df['CustomerAge'] = df['CustomerAge'].abs()\n",
    "\n",
    "import matplotlib.pyplot as plt\n",
    "\n",
    "plt.boxplot(df['CustomerAge'])\n",
    "plt.xlabel('Customer Age')\n",
    "plt.ylabel('Age')\n",
    "plt.title('Boxplot of Customer Age')\n",
    "plt.show()\n",
    "\n"
   ]
  },
  {
   "cell_type": "code",
   "execution_count": 9,
   "metadata": {},
   "outputs": [
    {
     "data": {
      "image/png": "[encoded data removed]",
      "text/plain": [
       "<Figure size 640x480 with 1 Axes>"
      ]
     },
     "metadata": {},
     "output_type": "display_data"
    }
   ],
   "source": [
    "# Drop rows where age is above 100\n",
    "df = df.drop(df[df['CustomerAge'] > 100].index)\n",
    "\n",
    "import matplotlib.pyplot as plt\n",
    "\n",
    "plt.boxplot(df['CustomerAge'])\n",
    "plt.xlabel('Customer Age')\n",
    "plt.ylabel('Age')\n",
    "plt.title('Boxplot of Customer Age')\n",
    "plt.show()\n",
    "\n",
    "# Deletes the features that we don't need\n",
    "df.drop(columns=['TransactionID', 'CustomerDOB', 'TransactionTime'], axis=1, inplace=True)"
   ]
  },
  {
   "cell_type": "code",
   "execution_count": 10,
   "metadata": {},
   "outputs": [
    {
     "data": {
      "text/html": [
       "<div>\n",
       "<style scoped>\n",
       "    .dataframe tbody tr th:only-of-type {\n",
       "        vertical-align: middle;\n",
       "    }\n",
       "\n",
       "    .dataframe tbody tr th {\n",
       "        vertical-align: top;\n",
       "    }\n",
       "\n",
       "    .dataframe thead th {\n",
       "        text-align: right;\n",
       "    }\n",
       "</style>\n",
       "<table border=\"1\" class=\"dataframe\">\n",
       "  <thead>\n",
       "    <tr style=\"text-align: right;\">\n",
       "      <th></th>\n",
       "      <th>CustomerID</th>\n",
       "      <th>CustAccountBalance</th>\n",
       "      <th>TransactionDate</th>\n",
       "      <th>TransactionAmount (INR)</th>\n",
       "      <th>CustomerAge</th>\n",
       "      <th>CustGender_encoded</th>\n",
       "      <th>CustLocation_encoded</th>\n",
       "    </tr>\n",
       "  </thead>\n",
       "  <tbody>\n",
       "    <tr>\n",
       "      <th>0</th>\n",
       "      <td>C5841053</td>\n",
       "      <td>17819.05</td>\n",
       "      <td>2016-02-08</td>\n",
       "      <td>25.0</td>\n",
       "      <td>22</td>\n",
       "      <td>0</td>\n",
       "      <td>3117</td>\n",
       "    </tr>\n",
       "    <tr>\n",
       "      <th>1</th>\n",
       "      <td>C2142763</td>\n",
       "      <td>2270.69</td>\n",
       "      <td>2016-02-08</td>\n",
       "      <td>27999.0</td>\n",
       "      <td>41</td>\n",
       "      <td>1</td>\n",
       "      <td>3174</td>\n",
       "    </tr>\n",
       "    <tr>\n",
       "      <th>2</th>\n",
       "      <td>C4417068</td>\n",
       "      <td>17874.44</td>\n",
       "      <td>2016-02-08</td>\n",
       "      <td>459.0</td>\n",
       "      <td>20</td>\n",
       "      <td>0</td>\n",
       "      <td>4625</td>\n",
       "    </tr>\n",
       "    <tr>\n",
       "      <th>3</th>\n",
       "      <td>C5342380</td>\n",
       "      <td>866503.21</td>\n",
       "      <td>2016-02-08</td>\n",
       "      <td>2060.0</td>\n",
       "      <td>57</td>\n",
       "      <td>0</td>\n",
       "      <td>4625</td>\n",
       "    </tr>\n",
       "    <tr>\n",
       "      <th>4</th>\n",
       "      <td>C9031234</td>\n",
       "      <td>6714.43</td>\n",
       "      <td>2016-02-08</td>\n",
       "      <td>1762.5</td>\n",
       "      <td>28</td>\n",
       "      <td>0</td>\n",
       "      <td>4965</td>\n",
       "    </tr>\n",
       "    <tr>\n",
       "      <th>...</th>\n",
       "      <td>...</td>\n",
       "      <td>...</td>\n",
       "      <td>...</td>\n",
       "      <td>...</td>\n",
       "      <td>...</td>\n",
       "      <td>...</td>\n",
       "      <td>...</td>\n",
       "    </tr>\n",
       "    <tr>\n",
       "      <th>1048562</th>\n",
       "      <td>C8020229</td>\n",
       "      <td>7635.19</td>\n",
       "      <td>2016-09-18</td>\n",
       "      <td>799.0</td>\n",
       "      <td>26</td>\n",
       "      <td>1</td>\n",
       "      <td>5066</td>\n",
       "    </tr>\n",
       "    <tr>\n",
       "      <th>1048563</th>\n",
       "      <td>C6459278</td>\n",
       "      <td>27311.42</td>\n",
       "      <td>2016-09-18</td>\n",
       "      <td>460.0</td>\n",
       "      <td>24</td>\n",
       "      <td>1</td>\n",
       "      <td>4943</td>\n",
       "    </tr>\n",
       "    <tr>\n",
       "      <th>1048564</th>\n",
       "      <td>C6412354</td>\n",
       "      <td>221757.06</td>\n",
       "      <td>2016-09-18</td>\n",
       "      <td>770.0</td>\n",
       "      <td>27</td>\n",
       "      <td>1</td>\n",
       "      <td>2954</td>\n",
       "    </tr>\n",
       "    <tr>\n",
       "      <th>1048565</th>\n",
       "      <td>C6420483</td>\n",
       "      <td>10117.87</td>\n",
       "      <td>2016-09-18</td>\n",
       "      <td>1000.0</td>\n",
       "      <td>38</td>\n",
       "      <td>1</td>\n",
       "      <td>7979</td>\n",
       "    </tr>\n",
       "    <tr>\n",
       "      <th>1048566</th>\n",
       "      <td>C8337524</td>\n",
       "      <td>75734.42</td>\n",
       "      <td>2016-09-18</td>\n",
       "      <td>1166.0</td>\n",
       "      <td>32</td>\n",
       "      <td>1</td>\n",
       "      <td>5843</td>\n",
       "    </tr>\n",
       "  </tbody>\n",
       "</table>\n",
       "<p>985322 rows × 7 columns</p>\n",
       "</div>"
      ],
      "text/plain": [
       "        CustomerID  CustAccountBalance TransactionDate  \\\n",
       "0         C5841053            17819.05      2016-02-08   \n",
       "1         C2142763             2270.69      2016-02-08   \n",
       "2         C4417068            17874.44      2016-02-08   \n",
       "3         C5342380           866503.21      2016-02-08   \n",
       "4         C9031234             6714.43      2016-02-08   \n",
       "...            ...                 ...             ...   \n",
       "1048562   C8020229             7635.19      2016-09-18   \n",
       "1048563   C6459278            27311.42      2016-09-18   \n",
       "1048564   C6412354           221757.06      2016-09-18   \n",
       "1048565   C6420483            10117.87      2016-09-18   \n",
       "1048566   C8337524            75734.42      2016-09-18   \n",
       "\n",
       "         TransactionAmount (INR)  CustomerAge  CustGender_encoded  \\\n",
       "0                           25.0           22                   0   \n",
       "1                        27999.0           41                   1   \n",
       "2                          459.0           20                   0   \n",
       "3                         2060.0           57                   0   \n",
       "4                         1762.5           28                   0   \n",
       "...                          ...          ...                 ...   \n",
       "1048562                    799.0           26                   1   \n",
       "1048563                    460.0           24                   1   \n",
       "1048564                    770.0           27                   1   \n",
       "1048565                   1000.0           38                   1   \n",
       "1048566                   1166.0           32                   1   \n",
       "\n",
       "         CustLocation_encoded  \n",
       "0                        3117  \n",
       "1                        3174  \n",
       "2                        4625  \n",
       "3                        4625  \n",
       "4                        4965  \n",
       "...                       ...  \n",
       "1048562                  5066  \n",
       "1048563                  4943  \n",
       "1048564                  2954  \n",
       "1048565                  7979  \n",
       "1048566                  5843  \n",
       "\n",
       "[985322 rows x 7 columns]"
      ]
     },
     "execution_count": 10,
     "metadata": {},
     "output_type": "execute_result"
    }
   ],
   "source": [
    "from sklearn.preprocessing import LabelEncoder\n",
    "\n",
    "def encode_categorical_features(df):\n",
    "    \"\"\"\n",
    "    Encodes the categorical features 'CustGender' and 'CustLocation' using LabelEncoder.\n",
    "\n",
    "    Parameters:\n",
    "    df (pandas.DataFrame): The input DataFrame containing the categorical features.\n",
    "\n",
    "    Returns:\n",
    "    pandas.DataFrame: The DataFrame with the encoded features.\n",
    "    \"\"\"\n",
    "    # Create an instance of LabelEncoder\n",
    "    encoder = LabelEncoder()\n",
    "    # Encode the \"CustGender\" feature\n",
    "    df['CustGender_encoded'] = encoder.fit_transform(df['CustGender'])\n",
    "    # Encode the \"CustLocation\" feature (assuming it is present in the DataFrame)\n",
    "\n",
    "    df['CustLocation_encoded'] = encoder.fit_transform(df['CustLocation'])\n",
    "\n",
    "    return df\n",
    "\n",
    "df = encode_categorical_features(df)\n",
    "df.drop (columns=['CustGender' , 'CustLocation'] , axis=1 , inplace = True)\n",
    "df"
   ]
  },
  {
   "cell_type": "markdown",
   "metadata": {},
   "source": [
    "En la función `encode_categorical_features`, se utiliza la clase `LabelEncoder` del módulo `sklearn.preprocessing` para codificar las características categóricas \"CustGender\" y \"CustLocation\" en el DataFrame de entrada.\n",
    "\n",
    "Primero, se crea una instancia del `LabelEncoder` utilizando la siguiente línea de código: $$ encoder = LabelEncoder() $$\n",
    "\n"
   ]
  },
  {
   "cell_type": "markdown",
   "metadata": {},
   "source": [
    "\n",
    "\n",
    "Luego, se aplica la codificación a la característica \"CustGender\" utilizando el método `fit_transform` del `encoder`: $$ df['CustGender_encoded'] = encoder.fit_transform(df['CustGender']) $$\n",
    "\n"
   ]
  },
  {
   "cell_type": "markdown",
   "metadata": {},
   "source": [
    "\n",
    "\n",
    "Este método ajusta el `encoder` a los valores únicos presentes en la columna \"CustGender\" del DataFrame y luego transforma esos valores en números enteros codificados. Los valores codificados se asignan a una nueva columna llamada \"CustGender_encoded\" en el DataFrame.\n",
    "\n",
    "A continuación, se aplica la misma codificación a la característica \"CustLocation\" utilizando el método `fit_transform` nuevamente: $$ df['CustLocation_encoded'] = encoder.fit_transform(df['CustLocation']) $$\n",
    "\n"
   ]
  },
  {
   "cell_type": "markdown",
   "metadata": {},
   "source": [
    "\n",
    "\n",
    "Al igual que antes, el `encoder` se ajusta a los valores únicos presentes en la columna \"CustLocation\" y los transforma en números enteros codificados. Los valores codificados se asignan a una nueva columna llamada \"CustLocation_encoded\" en el DataFrame.\n",
    "\n",
    "Es importante tener en cuenta que el método `fit_transform` se utiliza por separado para cada característica categórica. Esto se debe a que el `encoder` necesita ajustarse a los valores únicos de cada característica individualmente para garantizar una codificación coherente.\n",
    "\n",
    "Finalmente, la función devuelve el DataFrame con las características codificadas:\n",
    "\n",
    "$$ return df $$"
   ]
  },
  {
   "cell_type": "markdown",
   "metadata": {},
   "source": [
    "\n",
    "\n",
    "De esta manera, la función `encode_categorical_features` codifica las características categóricas \"CustGender\" y \"CustLocation\" utilizando `LabelEncoder` y agrega las columnas codificadas al DataFrame original."
   ]
  },
  {
   "cell_type": "code",
   "execution_count": 24,
   "metadata": {},
   "outputs": [
    {
     "data": {
      "image/png": "[encoded data removed]",
      "text/plain": [
       "<Figure size 640x480 with 1 Axes>"
      ]
     },
     "metadata": {},
     "output_type": "display_data"
    },
    {
     "name": "stdout",
     "output_type": "stream",
     "text": [
      "CustGender_encoded\n",
      "1    712454\n",
      "0    272868\n",
      "Name: count, dtype: int64\n"
     ]
    }
   ],
   "source": [
    "\n",
    "\"\"\"\n",
    "Plots the transaction count by gender.\n",
    "\n",
    "Parameters:\n",
    "df (pandas.DataFrame): The DataFrame containing the gender information.\n",
    "\n",
    "Returns:\n",
    "None\n",
    "\"\"\"\n",
    "\n",
    "gender_counts = df['CustGender_encoded'].value_counts()\n",
    "\n",
    "# Plot transaction count by gender using seaborn\n",
    "sns.countplot(data=df, x='CustGender_encoded')\n",
    "plt.xlabel('Gender')\n",
    "plt.ylabel('Transaction Count')\n",
    "plt.xticks([0, 1], ['Female', 'Male'])\n",
    "plt.title('Transaction Count by Gender')\n",
    "plt.show()\n",
    "\n",
    "print(gender_counts)\n"
   ]
  },
  {
   "cell_type": "markdown",
   "metadata": {},
   "source": [
    "EL objetivo de este grafico es ver graficamente como se distribuyen las transacciones conforme a su genero, en este caso la mayoría son realizadas por hombres."
   ]
  },
  {
   "cell_type": "code",
   "execution_count": 19,
   "metadata": {},
   "outputs": [
    {
     "data": {
      "image/png": "[encoded data removed]",
      "text/plain": [
       "<Figure size 640x480 with 1 Axes>"
      ]
     },
     "metadata": {},
     "output_type": "display_data"
    }
   ],
   "source": [
    "\n",
    "\"\"\"\n",
    "Plots a histogram of transaction count by customer age.\n",
    "\n",
    "Parameters:\n",
    "- df: DataFrame containing the data\n",
    "- x: Column name for the customer age\n",
    "- bins: Number of bins for the histogram\n",
    "- kde: Whether to plot a kernel density estimate\n",
    "\"\"\"\n",
    "sns.histplot(data=df, x='CustomerAge', bins=10, kde=True)\n",
    "plt.xlabel('Age')\n",
    "plt.ylabel('Transaction Count')\n",
    "plt.title('Transaction Count by Age')\n",
    "plt.xticks(range(0, 60, 5))\n",
    "plt.show()\n"
   ]
  },
  {
   "cell_type": "markdown",
   "metadata": {},
   "source": [
    "En esta distribucion similar a campana podemos apreciar que la media de las edades que realizan transacciones se encuentran en las edades de 23 a 35."
   ]
  },
  {
   "cell_type": "code",
   "execution_count": 17,
   "metadata": {},
   "outputs": [
    {
     "data": {
      "image/png": "[encoded data removed]",
      "text/plain": [
       "<Figure size 1000x600 with 1 Axes>"
      ]
     },
     "metadata": {},
     "output_type": "display_data"
    },
    {
     "name": "stdout",
     "output_type": "stream",
     "text": [
      "TransactionMonth\n",
      "January       40232\n",
      "February      41172\n",
      "March         44376\n",
      "April         44820\n",
      "May           39914\n",
      "June          43707\n",
      "July          45926\n",
      "August       402910\n",
      "September    148810\n",
      "October       48186\n",
      "November      44769\n",
      "December      40500\n",
      "Name: count, dtype: int64\n"
     ]
    }
   ],
   "source": [
    "\n",
    "# Extract month from TransactionDate\n",
    "df['TransactionMonth'] = df['TransactionDate'].dt.month\n",
    "\n",
    "# Count transactions by month\n",
    "transaction_counts = df['TransactionMonth'].value_counts().sort_index()\n",
    "\n",
    "# Map month numbers to month names\n",
    "transaction_counts.index = transaction_counts.index.map(lambda x: calendar.month_name[x])\n",
    "\n",
    "# Set the style of the plot\n",
    "sns.set(style=\"whitegrid\")\n",
    "\n",
    "# Plot transaction count by month using seaborn\n",
    "plt.figure(figsize=(10, 6))\n",
    "sns.barplot(x=transaction_counts.index, y=transaction_counts.values)\n",
    "plt.xlabel('Month')\n",
    "plt.ylabel('Transaction Count')\n",
    "plt.title('Transaction Count by Month')\n",
    "plt.xticks(rotation=45)\n",
    "plt.show()\n",
    "\n",
    "print(transaction_counts)\n"
   ]
  },
  {
   "cell_type": "markdown",
   "metadata": {},
   "source": [
    "Nos parecio curioso que los meses con mayor movimiento de transacciones son los meses de agosto y septiembre, a lo cual encontramos estos datos en internet que podrian explicar el motivo: \n",
    "\n",
    "1. La mayor cantidad de transacciones se realizó en el mes de agosto. En agosto, India celebra el Día de la Independencia el 15 de agosto, que es una fiesta nacional. \n",
    "[Fiestas de India](https://directiatravel.com/viajes-india/guia/mejor-epoca-viajar/fiestas)  \n",
    "2. En septiembre de 2016, se celebró el festival de Durga Puja, que es una de las festividades más importantes en varias partes de India. [DurgaPuja](https://issuu.com/indiandiplomacy/docs/india_perspectives_spanish_septembe)"
   ]
  }
 ],
 "metadata": {
  "kernelspec": {
   "display_name": "Python 3",
   "language": "python",
   "name": "python3"
  },
  "language_info": {
   "codemirror_mode": {
    "name": "ipython",
    "version": 3
   },
   "file_extension": ".py",
   "mimetype": "text/x-python",
   "name": "python",
   "nbconvert_exporter": "python",
   "pygments_lexer": "ipython3",
   "version": "3.12.0"
  }
 },
 "nbformat": 4,
 "nbformat_minor": 2
}
